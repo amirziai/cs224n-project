{
 "cells": [
  {
   "cell_type": "code",
   "execution_count": 25,
   "metadata": {},
   "outputs": [],
   "source": [
    "%matplotlib inline"
   ]
  },
  {
   "cell_type": "code",
   "execution_count": 35,
   "metadata": {},
   "outputs": [],
   "source": [
    "import matplotlib.pyplot as plt\n",
    "import pandas as pd"
   ]
  },
  {
   "cell_type": "code",
   "execution_count": 18,
   "metadata": {},
   "outputs": [],
   "source": [
    "def get_progress(file_name):\n",
    "    return pd.read_csv(file_name, header=None,\n",
    "                       names=['it', 'cur_lr', 'total_nll', 'dev_nll', 'time_elapsed'])"
   ]
  },
  {
   "cell_type": "code",
   "execution_count": 19,
   "metadata": {},
   "outputs": [],
   "source": [
    "df_progress_pre = get_progress('progress_fine_tune_aug_frac_100_agument_nesting_entity_concat2_num_epochs_15_5_5.csv')"
   ]
  },
  {
   "cell_type": "code",
   "execution_count": 20,
   "metadata": {},
   "outputs": [
    {
     "data": {
      "text/plain": [
       "(25, 5)"
      ]
     },
     "execution_count": 20,
     "metadata": {},
     "output_type": "execute_result"
    }
   ],
   "source": [
    "df_progress_pre.shape"
   ]
  },
  {
   "cell_type": "code",
   "execution_count": 21,
   "metadata": {},
   "outputs": [
    {
     "data": {
      "text/html": [
       "<div>\n",
       "<style scoped>\n",
       "    .dataframe tbody tr th:only-of-type {\n",
       "        vertical-align: middle;\n",
       "    }\n",
       "\n",
       "    .dataframe tbody tr th {\n",
       "        vertical-align: top;\n",
       "    }\n",
       "\n",
       "    .dataframe thead th {\n",
       "        text-align: right;\n",
       "    }\n",
       "</style>\n",
       "<table border=\"1\" class=\"dataframe\">\n",
       "  <thead>\n",
       "    <tr style=\"text-align: right;\">\n",
       "      <th></th>\n",
       "      <th>it</th>\n",
       "      <th>cur_lr</th>\n",
       "      <th>total_nll</th>\n",
       "      <th>dev_nll</th>\n",
       "      <th>time_elapsed</th>\n",
       "    </tr>\n",
       "  </thead>\n",
       "  <tbody>\n",
       "    <tr>\n",
       "      <th>0</th>\n",
       "      <td>0</td>\n",
       "      <td>0.1</td>\n",
       "      <td>1.486411</td>\n",
       "      <td>1132.124921</td>\n",
       "      <td>86.309386</td>\n",
       "    </tr>\n",
       "    <tr>\n",
       "      <th>1</th>\n",
       "      <td>1</td>\n",
       "      <td>0.1</td>\n",
       "      <td>1.089285</td>\n",
       "      <td>1130.607300</td>\n",
       "      <td>96.385803</td>\n",
       "    </tr>\n",
       "    <tr>\n",
       "      <th>2</th>\n",
       "      <td>2</td>\n",
       "      <td>0.1</td>\n",
       "      <td>0.932099</td>\n",
       "      <td>1133.650774</td>\n",
       "      <td>98.282659</td>\n",
       "    </tr>\n",
       "    <tr>\n",
       "      <th>3</th>\n",
       "      <td>3</td>\n",
       "      <td>0.1</td>\n",
       "      <td>0.832281</td>\n",
       "      <td>1134.720344</td>\n",
       "      <td>102.338800</td>\n",
       "    </tr>\n",
       "    <tr>\n",
       "      <th>4</th>\n",
       "      <td>4</td>\n",
       "      <td>0.1</td>\n",
       "      <td>0.745684</td>\n",
       "      <td>1136.775983</td>\n",
       "      <td>102.008041</td>\n",
       "    </tr>\n",
       "  </tbody>\n",
       "</table>\n",
       "</div>"
      ],
      "text/plain": [
       "   it  cur_lr  total_nll      dev_nll  time_elapsed\n",
       "0   0     0.1   1.486411  1132.124921     86.309386\n",
       "1   1     0.1   1.089285  1130.607300     96.385803\n",
       "2   2     0.1   0.932099  1133.650774     98.282659\n",
       "3   3     0.1   0.832281  1134.720344    102.338800\n",
       "4   4     0.1   0.745684  1136.775983    102.008041"
      ]
     },
     "execution_count": 21,
     "metadata": {},
     "output_type": "execute_result"
    }
   ],
   "source": [
    "df_progress_pre.head()"
   ]
  },
  {
   "cell_type": "code",
   "execution_count": 22,
   "metadata": {},
   "outputs": [],
   "source": [
    "df_progress_fine = get_progress('progress_pre_aug_frac_100_agument_nesting_entity_concat2_num_epochs_15_5_5.csv')\n",
    "df_progress_fine_train = get_progress()"
   ]
  },
  {
   "cell_type": "code",
   "execution_count": 40,
   "metadata": {},
   "outputs": [],
   "source": [
    "df_progress_pre.index += 1\n",
    "df_progress_fine.index += 1"
   ]
  },
  {
   "cell_type": "code",
   "execution_count": 41,
   "metadata": {},
   "outputs": [
    {
     "data": {
      "text/plain": [
       "(25, 5)"
      ]
     },
     "execution_count": 41,
     "metadata": {},
     "output_type": "execute_result"
    }
   ],
   "source": [
    "df_progress_fine.shape"
   ]
  },
  {
   "cell_type": "code",
   "execution_count": 42,
   "metadata": {},
   "outputs": [
    {
     "data": {
      "text/html": [
       "<div>\n",
       "<style scoped>\n",
       "    .dataframe tbody tr th:only-of-type {\n",
       "        vertical-align: middle;\n",
       "    }\n",
       "\n",
       "    .dataframe tbody tr th {\n",
       "        vertical-align: top;\n",
       "    }\n",
       "\n",
       "    .dataframe thead th {\n",
       "        text-align: right;\n",
       "    }\n",
       "</style>\n",
       "<table border=\"1\" class=\"dataframe\">\n",
       "  <thead>\n",
       "    <tr style=\"text-align: right;\">\n",
       "      <th></th>\n",
       "      <th>it</th>\n",
       "      <th>cur_lr</th>\n",
       "      <th>total_nll</th>\n",
       "      <th>dev_nll</th>\n",
       "      <th>time_elapsed</th>\n",
       "    </tr>\n",
       "  </thead>\n",
       "  <tbody>\n",
       "    <tr>\n",
       "      <th>1</th>\n",
       "      <td>0</td>\n",
       "      <td>0.1</td>\n",
       "      <td>39216.121908</td>\n",
       "      <td>1911.381026</td>\n",
       "      <td>198.459456</td>\n",
       "    </tr>\n",
       "    <tr>\n",
       "      <th>2</th>\n",
       "      <td>1</td>\n",
       "      <td>0.1</td>\n",
       "      <td>10871.646582</td>\n",
       "      <td>1155.582193</td>\n",
       "      <td>201.591965</td>\n",
       "    </tr>\n",
       "    <tr>\n",
       "      <th>3</th>\n",
       "      <td>2</td>\n",
       "      <td>0.1</td>\n",
       "      <td>6536.177267</td>\n",
       "      <td>938.753199</td>\n",
       "      <td>196.919857</td>\n",
       "    </tr>\n",
       "    <tr>\n",
       "      <th>4</th>\n",
       "      <td>3</td>\n",
       "      <td>0.1</td>\n",
       "      <td>4275.745575</td>\n",
       "      <td>874.893702</td>\n",
       "      <td>203.093594</td>\n",
       "    </tr>\n",
       "    <tr>\n",
       "      <th>5</th>\n",
       "      <td>4</td>\n",
       "      <td>0.1</td>\n",
       "      <td>3289.327495</td>\n",
       "      <td>885.802441</td>\n",
       "      <td>200.104341</td>\n",
       "    </tr>\n",
       "  </tbody>\n",
       "</table>\n",
       "</div>"
      ],
      "text/plain": [
       "   it  cur_lr     total_nll      dev_nll  time_elapsed\n",
       "1   0     0.1  39216.121908  1911.381026    198.459456\n",
       "2   1     0.1  10871.646582  1155.582193    201.591965\n",
       "3   2     0.1   6536.177267   938.753199    196.919857\n",
       "4   3     0.1   4275.745575   874.893702    203.093594\n",
       "5   4     0.1   3289.327495   885.802441    200.104341"
      ]
     },
     "execution_count": 42,
     "metadata": {},
     "output_type": "execute_result"
    }
   ],
   "source": [
    "df_progress_fine.head()"
   ]
  },
  {
   "cell_type": "code",
   "execution_count": 55,
   "metadata": {},
   "outputs": [
    {
     "data": {
      "text/plain": [
       "Text(0, 0.5, 'Negative log-likelihood')"
      ]
     },
     "execution_count": 55,
     "metadata": {},
     "output_type": "execute_result"
    },
    {
     "data": {
      "image/png": "[encoded data removed]",
      "text/plain": [
       "<Figure size 432x288 with 1 Axes>"
      ]
     },
     "metadata": {
      "needs_background": "light"
     },
     "output_type": "display_data"
    }
   ],
   "source": [
    "pd.DataFrame({\n",
    "    'Single stage dev': df_progress_pre.dev_nll * -1,\n",
    "    'Two stage dev': df_progress_fine.dev_nll * -1,\n",
    "}).plot()\n",
    "plt.xlabel('Epoch')\n",
    "plt.ylabel('Negative log-likelihood')\n",
    "# plt.title('Dev set loss over epochs')"
   ]
  },
  {
   "cell_type": "code",
   "execution_count": 48,
   "metadata": {},
   "outputs": [
    {
     "name": "stdout",
     "output_type": "stream",
     "text": [
      "denotation_accuracy,denotation_correct,denotation_total,sentence_accuracy,sentence_correct,sentence_total,token_accuracy,token_correct,token_total\r\n",
      "0.8892857142857142,249,280,0.7928571428571428,222,280,0.9097654118930715,8338,9165\r\n"
     ]
    }
   ],
   "source": [
    "!cat accuracy_dev_fine_tune_aug_frac_100_agument_nesting_entity_concat2_num_epochs_15_5_5.csv"
   ]
  },
  {
   "cell_type": "code",
   "execution_count": 49,
   "metadata": {},
   "outputs": [
    {
     "name": "stdout",
     "output_type": "stream",
     "text": [
      "denotation_accuracy,denotation_correct,denotation_total,sentence_accuracy,sentence_correct,sentence_total,token_accuracy,token_correct,token_total\r\n",
      "0.8892857142857142,249,280,0.7928571428571428,222,280,0.9121658483360611,8360,9165\r\n"
     ]
    }
   ],
   "source": [
    "!cat accuracy_dev_pre_aug_frac_100_agument_nesting_entity_concat2_num_epochs_15_5_5.csv"
   ]
  },
  {
   "cell_type": "code",
   "execution_count": null,
   "metadata": {},
   "outputs": [],
   "source": []
  }
 ],
 "metadata": {
  "kernelspec": {
   "display_name": "Python 3",
   "language": "python",
   "name": "python3"
  },
  "language_info": {
   "codemirror_mode": {
    "name": "ipython",
    "version": 3
   },
   "file_extension": ".py",
   "mimetype": "text/x-python",
   "name": "python",
   "nbconvert_exporter": "python",
   "pygments_lexer": "ipython3",
   "version": "3.7.2"
  }
 },
 "nbformat": 4,
 "nbformat_minor": 2
}
