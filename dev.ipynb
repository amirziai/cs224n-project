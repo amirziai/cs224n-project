{
 "cells": [
  {
   "cell_type": "code",
   "execution_count": 17,
   "metadata": {},
   "outputs": [
    {
     "name": "stdout",
     "output_type": "stream",
     "text": [
      "Looking in indexes: https://smartiproxy.mgmt.netflix.net/pypi\r\n",
      "Requirement already satisfied: python-Levenshtein in /anaconda3/lib/python3.7/site-packages (0.12.0)\r\n",
      "Requirement already satisfied: setuptools in /anaconda3/lib/python3.7/site-packages (from python-Levenshtein) (40.6.3)\r\n"
     ]
    }
   ],
   "source": [
    "!pip install python-Levenshtein"
   ]
  },
  {
   "cell_type": "code",
   "execution_count": 20,
   "metadata": {},
   "outputs": [],
   "source": [
    "from Levenshtein import distance"
   ]
  },
  {
   "cell_type": "code",
   "execution_count": 19,
   "metadata": {},
   "outputs": [],
   "source": [
    "data = 'data/geo880_train600.tsv'"
   ]
  },
  {
   "cell_type": "code",
   "execution_count": null,
   "metadata": {},
   "outputs": [],
   "source": [
    "for "
   ]
  },
  {
   "cell_type": "code",
   "execution_count": 30,
   "metadata": {},
   "outputs": [],
   "source": [
    "from collections import Counter"
   ]
  },
  {
   "cell_type": "code",
   "execution_count": 31,
   "metadata": {},
   "outputs": [
    {
     "data": {
      "text/plain": [
       "Counter({('largest', '_largest'): 9,\n",
       "         ('smallest', '_smallest'): 4,\n",
       "         ('highest', '_highest'): 2,\n",
       "         ('longest', '_longest'): 2,\n",
       "         ('most', '_most'): 5,\n",
       "         ('capital', '_capital'): 1,\n",
       "         ('states', '_state'): 3,\n",
       "         ('state', '_state'): 1})"
      ]
     },
     "execution_count": 31,
     "metadata": {},
     "output_type": "execute_result"
    }
   ],
   "source": [
    "src_tgt = [line.strip().split('\\t') for line in open(data)]\n",
    "\n",
    "Counter([\n",
    "    (x, y)\n",
    "    for src, tgt in src_tgt\n",
    "    for i, (x, y) in enumerate(zip(src.split(), tgt.split()))\n",
    "    if distance(x, y) <= 2 and len(x) >= 3 and len(y) >= 3\n",
    "])"
   ]
  },
  {
   "cell_type": "code",
   "execution_count": null,
   "metadata": {},
   "outputs": [],
   "source": []
  },
  {
   "cell_type": "code",
   "execution_count": 41,
   "metadata": {},
   "outputs": [
    {
     "data": {
      "text/plain": [
       "{1, 2, 3}"
      ]
     },
     "execution_count": 41,
     "metadata": {},
     "output_type": "execute_result"
    }
   ],
   "source": [
    "friends = set()\n",
    "friends.union({1, 2, 3})"
   ]
  },
  {
   "cell_type": "code",
   "execution_count": 58,
   "metadata": {},
   "outputs": [],
   "source": [
    "friends = []\n",
    "\n",
    "window_size = 5\n",
    "distance_threshold = 3\n",
    "token_size_threshold = 3\n",
    "\n",
    "for src, tgt in src_tgt:\n",
    "    src_tokens = src.split()\n",
    "    tgt_tokens = tgt.split()\n",
    "    \n",
    "    for i, src_token in enumerate(src_tokens):\n",
    "        if len(src_token) >= token_size_threshold:\n",
    "            friends += [\n",
    "                (src_token, tgt_tokens[i + j])\n",
    "                for j in range(-window_size, window_size + 1)\n",
    "                if (0 <= i + j < len(tgt_tokens) and len(tgt_tokens[i + j]) >= token_size_threshold and distance(tgt_tokens[i + j], src_token) <= distance_threshold)\n",
    "            ]"
   ]
  },
  {
   "cell_type": "code",
   "execution_count": 59,
   "metadata": {},
   "outputs": [
    {
     "data": {
      "text/plain": [
       "Counter({('highest', '_highest'): 26,\n",
       "         ('state', '_state'): 62,\n",
       "         ('mountain', '_mountain'): 4,\n",
       "         ('capital', '_capital'): 25,\n",
       "         ('populations', '_population'): 7,\n",
       "         ('name', '_lake'): 1,\n",
       "         ('lakes', '_lake'): 4,\n",
       "         ('states', '_state'): 96,\n",
       "         ('population', '_population'): 37,\n",
       "         ('rivers', '_river'): 31,\n",
       "         ('lowest', '_lowest'): 14,\n",
       "         ('capitals', '_capital'): 4,\n",
       "         ('size', '_size'): 5,\n",
       "         ('shortest', '_shortest'): 9,\n",
       "         ('river', '_river'): 32,\n",
       "         ('major', '_major'): 27,\n",
       "         ('most', '_most'): 13,\n",
       "         ('long', '_len'): 7,\n",
       "         ('the', '_len'): 18,\n",
       "         ('area', '_area'): 15,\n",
       "         ('longest', '_longest'): 21,\n",
       "         ('smallest', '_smallest'): 21,\n",
       "         ('largest', '_largest'): 42,\n",
       "         ('city', '_city'): 26,\n",
       "         ('over', '_river'): 1,\n",
       "         ('are', '_lake'): 1,\n",
       "         ('density', '_density'): 8,\n",
       "         ('mountains', '_mountain'): 1,\n",
       "         ('elevation', '_elevation'): 2,\n",
       "         ('found', '_count'): 1,\n",
       "         ('miles', '_len'): 1,\n",
       "         ('with', '_city'): 2})"
      ]
     },
     "execution_count": 59,
     "metadata": {},
     "output_type": "execute_result"
    }
   ],
   "source": [
    "Counter(friends)"
   ]
  },
  {
   "cell_type": "code",
   "execution_count": 61,
   "metadata": {},
   "outputs": [],
   "source": [
    "tuples = [\n",
    "    (x, y)\n",
    "    for src, tgt in src_tgt\n",
    "    for i, (x, y) in enumerate(zip(src.split(), tgt.split()))\n",
    "    # if distance(x, y) <= 2 and len(x) >= 3 and len(y) >= 3\n",
    "]"
   ]
  },
  {
   "cell_type": "code",
   "execution_count": 62,
   "metadata": {},
   "outputs": [],
   "source": [
    "from collections import defaultdict"
   ]
  },
  {
   "cell_type": "code",
   "execution_count": 73,
   "metadata": {},
   "outputs": [],
   "source": [
    "cnt = defaultdict(lambda: defaultdict(int))"
   ]
  },
  {
   "cell_type": "code",
   "execution_count": 74,
   "metadata": {},
   "outputs": [],
   "source": [
    "for src, tgt in tuples:\n",
    "    if len(src) >= 3 and len(tgt) >= 3:\n",
    "        cnt[tgt][src] += 1"
   ]
  },
  {
   "cell_type": "code",
   "execution_count": 81,
   "metadata": {},
   "outputs": [
    {
     "name": "stdout",
     "output_type": "stream",
     "text": [
      "the\n",
      "are\n",
      "border\n",
      "pennsylvania\n",
      "usa\n",
      "virginia\n",
      "texas\n",
      "citizens\n",
      "borders\n",
      "california\n",
      "population\n"
     ]
    }
   ],
   "source": [
    "for src in cnt['_city']:\n",
    "    print(src)"
   ]
  },
  {
   "cell_type": "code",
   "execution_count": null,
   "metadata": {},
   "outputs": [],
   "source": [
    "{\n",
    "    ''\n",
    "}"
   ]
  },
  {
   "cell_type": "code",
   "execution_count": 88,
   "metadata": {},
   "outputs": [
    {
     "data": {
      "text/plain": [
       "{'_answer': {'what': 384, 'which': 53, 'how': 111, 'where': 17},\n",
       " '_largest': {'state': 13, 'city': 19}}"
      ]
     },
     "execution_count": 88,
     "metadata": {},
     "output_type": "execute_result"
    }
   ],
   "source": []
  },
  {
   "cell_type": "code",
   "execution_count": 102,
   "metadata": {},
   "outputs": [],
   "source": [
    "from nltk.corpus import stopwords"
   ]
  },
  {
   "cell_type": "code",
   "execution_count": 105,
   "metadata": {},
   "outputs": [
    {
     "data": {
      "text/plain": [
       "{'a',\n",
       " 'about',\n",
       " 'above',\n",
       " 'after',\n",
       " 'again',\n",
       " 'against',\n",
       " 'ain',\n",
       " 'all',\n",
       " 'am',\n",
       " 'an',\n",
       " 'and',\n",
       " 'any',\n",
       " 'are',\n",
       " 'aren',\n",
       " \"aren't\",\n",
       " 'as',\n",
       " 'at',\n",
       " 'be',\n",
       " 'because',\n",
       " 'been',\n",
       " 'before',\n",
       " 'being',\n",
       " 'below',\n",
       " 'between',\n",
       " 'both',\n",
       " 'but',\n",
       " 'by',\n",
       " 'can',\n",
       " 'couldn',\n",
       " \"couldn't\",\n",
       " 'd',\n",
       " 'did',\n",
       " 'didn',\n",
       " \"didn't\",\n",
       " 'do',\n",
       " 'does',\n",
       " 'doesn',\n",
       " \"doesn't\",\n",
       " 'doing',\n",
       " 'don',\n",
       " \"don't\",\n",
       " 'down',\n",
       " 'during',\n",
       " 'each',\n",
       " 'few',\n",
       " 'for',\n",
       " 'from',\n",
       " 'further',\n",
       " 'had',\n",
       " 'hadn',\n",
       " \"hadn't\",\n",
       " 'has',\n",
       " 'hasn',\n",
       " \"hasn't\",\n",
       " 'have',\n",
       " 'haven',\n",
       " \"haven't\",\n",
       " 'having',\n",
       " 'he',\n",
       " 'her',\n",
       " 'here',\n",
       " 'hers',\n",
       " 'herself',\n",
       " 'him',\n",
       " 'himself',\n",
       " 'his',\n",
       " 'how',\n",
       " 'i',\n",
       " 'if',\n",
       " 'in',\n",
       " 'into',\n",
       " 'is',\n",
       " 'isn',\n",
       " \"isn't\",\n",
       " 'it',\n",
       " \"it's\",\n",
       " 'its',\n",
       " 'itself',\n",
       " 'just',\n",
       " 'll',\n",
       " 'm',\n",
       " 'ma',\n",
       " 'me',\n",
       " 'mightn',\n",
       " \"mightn't\",\n",
       " 'more',\n",
       " 'most',\n",
       " 'mustn',\n",
       " \"mustn't\",\n",
       " 'my',\n",
       " 'myself',\n",
       " 'needn',\n",
       " \"needn't\",\n",
       " 'no',\n",
       " 'nor',\n",
       " 'not',\n",
       " 'now',\n",
       " 'o',\n",
       " 'of',\n",
       " 'off',\n",
       " 'on',\n",
       " 'once',\n",
       " 'only',\n",
       " 'or',\n",
       " 'other',\n",
       " 'our',\n",
       " 'ours',\n",
       " 'ourselves',\n",
       " 'out',\n",
       " 'over',\n",
       " 'own',\n",
       " 're',\n",
       " 's',\n",
       " 'same',\n",
       " 'shan',\n",
       " \"shan't\",\n",
       " 'she',\n",
       " \"she's\",\n",
       " 'should',\n",
       " \"should've\",\n",
       " 'shouldn',\n",
       " \"shouldn't\",\n",
       " 'so',\n",
       " 'some',\n",
       " 'such',\n",
       " 't',\n",
       " 'than',\n",
       " 'that',\n",
       " \"that'll\",\n",
       " 'the',\n",
       " 'their',\n",
       " 'theirs',\n",
       " 'them',\n",
       " 'themselves',\n",
       " 'then',\n",
       " 'there',\n",
       " 'these',\n",
       " 'they',\n",
       " 'this',\n",
       " 'those',\n",
       " 'through',\n",
       " 'to',\n",
       " 'too',\n",
       " 'under',\n",
       " 'until',\n",
       " 'up',\n",
       " 've',\n",
       " 'very',\n",
       " 'was',\n",
       " 'wasn',\n",
       " \"wasn't\",\n",
       " 'we',\n",
       " 'were',\n",
       " 'weren',\n",
       " \"weren't\",\n",
       " 'what',\n",
       " 'when',\n",
       " 'where',\n",
       " 'which',\n",
       " 'while',\n",
       " 'who',\n",
       " 'whom',\n",
       " 'why',\n",
       " 'will',\n",
       " 'with',\n",
       " 'won',\n",
       " \"won't\",\n",
       " 'wouldn',\n",
       " \"wouldn't\",\n",
       " 'y',\n",
       " 'you',\n",
       " \"you'd\",\n",
       " \"you'll\",\n",
       " \"you're\",\n",
       " \"you've\",\n",
       " 'your',\n",
       " 'yours',\n",
       " 'yourself',\n",
       " 'yourselves'}"
      ]
     },
     "execution_count": 105,
     "metadata": {},
     "output_type": "execute_result"
    }
   ],
   "source": []
  },
  {
   "cell_type": "code",
   "execution_count": 108,
   "metadata": {},
   "outputs": [
    {
     "data": {
      "text/plain": [
       "{'_highest': {'highest': 26, 'point': 18},\n",
       " '_lake': {'lakes': 3, 'states': 2},\n",
       " '_lowest': {'lowest': 14, 'point': 12},\n",
       " '_count': {'many': 59, 'states': 32, 'cities': 18, 'rivers': 19},\n",
       " '_shortest': {'shortest': 9, 'river': 9},\n",
       " '_major': {'major': 24, 'cities': 20},\n",
       " '_most': {'states': 7, 'state': 7},\n",
       " '_elevation': {'highest': 9, 'point': 7},\n",
       " '_len': {'river': 9, 'length': 4},\n",
       " '_longest': {'longest': 21, 'river': 21},\n",
       " '_smallest': {'smallest': 20, 'state': 15, 'population': 12},\n",
       " '_largest': {'state': 35, 'largest': 39},\n",
       " '_density': {'population': 10, 'density': 8},\n",
       " '_sum': {'population': 2, 'states': 2},\n",
       " '_fewest': {'state': 2, 'borders': 2, 'least': 2, 'states': 2}}"
      ]
     },
     "execution_count": 108,
     "metadata": {},
     "output_type": "execute_result"
    }
   ],
   "source": [
    "cnt = defaultdict(lambda: defaultdict(int))\n",
    "cnt_tgt = defaultdict(int)\n",
    "\n",
    "window_size = 3\n",
    "# distance_threshold = 3\n",
    "token_size_threshold = 3\n",
    "support = 0.3\n",
    "support_abs = 2\n",
    "stop_words = set(stopwords.words('english'))\n",
    "\n",
    "\n",
    "for src, tgt in src_tgt:\n",
    "    src_tokens = src.split()\n",
    "    tgt_tokens = tgt.split()\n",
    "    \n",
    "    for tgt_token in tgt_tokens:\n",
    "        cnt_tgt[tgt_token] += 1\n",
    "    \n",
    "    for i, src_token in enumerate(src_tokens):\n",
    "        if len(src_token) >= token_size_threshold and src_token not in stop_words:\n",
    "            for j in range(-window_size, window_size + 1):\n",
    "                if (0 <= i + j < len(tgt_tokens) and len(tgt_tokens[i + j]) >= token_size_threshold and tgt_tokens[i + j] not in stop_words):\n",
    "                    cnt[tgt_tokens[i + j]][src_token] += 1\n",
    "                    \n",
    "{\n",
    "    tgt: {src: cnt[tgt][src] for src in cnt[tgt] if cnt[tgt][src] >= support * cnt_tgt[tgt] and cnt[tgt][src] >= support_abs}\n",
    "    for tgt in cnt\n",
    "    if len({src for src in cnt[tgt] if cnt[tgt][src] >= support * cnt_tgt[tgt] and cnt[tgt][src] >= support_abs}) >= 2\n",
    "}"
   ]
  },
  {
   "cell_type": "code",
   "execution_count": null,
   "metadata": {},
   "outputs": [],
   "source": []
  }
 ],
 "metadata": {
  "kernelspec": {
   "display_name": "Python 3",
   "language": "python",
   "name": "python3"
  },
  "language_info": {
   "codemirror_mode": {
    "name": "ipython",
    "version": 3
   },
   "file_extension": ".py",
   "mimetype": "text/x-python",
   "name": "python",
   "nbconvert_exporter": "python",
   "pygments_lexer": "ipython3",
   "version": "3.7.2"
  }
 },
 "nbformat": 4,
 "nbformat_minor": 2
}
